{
 "cells": [
  {
   "cell_type": "code",
   "execution_count": null,
   "id": "rubber-customs",
   "metadata": {},
   "outputs": [],
   "source": [
    "The aim of our study is to answer the below research questions:\n",
    "a) Does coach_price varies during the weekend?\n",
    "b) Does $500 seen as a good price for a coach ticket?\n",
    "c) Predicting of coach_price with thr prediction model"
   ]
  },
  {
   "cell_type": "code",
   "execution_count": 41,
   "id": "forced-writer",
   "metadata": {},
   "outputs": [],
   "source": [
    "#for data manuipulation\n",
    "import pandas as pd\n",
    "import numpy as np\n",
    "\n",
    "#for data visualization \n",
    "import matplotlib.pyplot as plt\n",
    "import seaborn as sns\n",
    "\n",
    "from sklearn.model_selection import train_test_split\n"
   ]
  },
  {
   "cell_type": "code",
   "execution_count": 42,
   "id": "received-pattern",
   "metadata": {},
   "outputs": [
    {
     "data": {
      "text/html": [
       "<div>\n",
       "<style scoped>\n",
       "    .dataframe tbody tr th:only-of-type {\n",
       "        vertical-align: middle;\n",
       "    }\n",
       "\n",
       "    .dataframe tbody tr th {\n",
       "        vertical-align: top;\n",
       "    }\n",
       "\n",
       "    .dataframe thead th {\n",
       "        text-align: right;\n",
       "    }\n",
       "</style>\n",
       "<table border=\"1\" class=\"dataframe\">\n",
       "  <thead>\n",
       "    <tr style=\"text-align: right;\">\n",
       "      <th></th>\n",
       "      <th>miles</th>\n",
       "      <th>passengers</th>\n",
       "      <th>delay</th>\n",
       "      <th>inflight_meal</th>\n",
       "      <th>inflight_entertainment</th>\n",
       "      <th>inflight_wifi</th>\n",
       "      <th>day_of_week</th>\n",
       "      <th>redeye</th>\n",
       "      <th>weekend</th>\n",
       "      <th>coach_price</th>\n",
       "      <th>firstclass_price</th>\n",
       "      <th>hours</th>\n",
       "    </tr>\n",
       "  </thead>\n",
       "  <tbody>\n",
       "    <tr>\n",
       "      <th>0</th>\n",
       "      <td>792</td>\n",
       "      <td>172</td>\n",
       "      <td>0</td>\n",
       "      <td>No</td>\n",
       "      <td>Yes</td>\n",
       "      <td>Yes</td>\n",
       "      <td>Sunday</td>\n",
       "      <td>Yes</td>\n",
       "      <td>Yes</td>\n",
       "      <td>338.820</td>\n",
       "      <td>1571.02</td>\n",
       "      <td>1</td>\n",
       "    </tr>\n",
       "    <tr>\n",
       "      <th>1</th>\n",
       "      <td>3163</td>\n",
       "      <td>214</td>\n",
       "      <td>0</td>\n",
       "      <td>No</td>\n",
       "      <td>Yes</td>\n",
       "      <td>Yes</td>\n",
       "      <td>Sunday</td>\n",
       "      <td>No</td>\n",
       "      <td>Yes</td>\n",
       "      <td>472.655</td>\n",
       "      <td>1663.70</td>\n",
       "      <td>6</td>\n",
       "    </tr>\n",
       "    <tr>\n",
       "      <th>2</th>\n",
       "      <td>1832</td>\n",
       "      <td>212</td>\n",
       "      <td>0</td>\n",
       "      <td>No</td>\n",
       "      <td>Yes</td>\n",
       "      <td>No</td>\n",
       "      <td>Friday</td>\n",
       "      <td>No</td>\n",
       "      <td>Yes</td>\n",
       "      <td>351.960</td>\n",
       "      <td>1429.86</td>\n",
       "      <td>3</td>\n",
       "    </tr>\n",
       "    <tr>\n",
       "      <th>3</th>\n",
       "      <td>925</td>\n",
       "      <td>213</td>\n",
       "      <td>0</td>\n",
       "      <td>No</td>\n",
       "      <td>Yes</td>\n",
       "      <td>Yes</td>\n",
       "      <td>Saturday</td>\n",
       "      <td>No</td>\n",
       "      <td>Yes</td>\n",
       "      <td>387.835</td>\n",
       "      <td>1558.76</td>\n",
       "      <td>2</td>\n",
       "    </tr>\n",
       "    <tr>\n",
       "      <th>4</th>\n",
       "      <td>967</td>\n",
       "      <td>217</td>\n",
       "      <td>0</td>\n",
       "      <td>Yes</td>\n",
       "      <td>Yes</td>\n",
       "      <td>Yes</td>\n",
       "      <td>Monday</td>\n",
       "      <td>No</td>\n",
       "      <td>No</td>\n",
       "      <td>374.735</td>\n",
       "      <td>1245.58</td>\n",
       "      <td>2</td>\n",
       "    </tr>\n",
       "  </tbody>\n",
       "</table>\n",
       "</div>"
      ],
      "text/plain": [
       "   miles  passengers  delay inflight_meal inflight_entertainment  \\\n",
       "0    792         172      0            No                    Yes   \n",
       "1   3163         214      0            No                    Yes   \n",
       "2   1832         212      0            No                    Yes   \n",
       "3    925         213      0            No                    Yes   \n",
       "4    967         217      0           Yes                    Yes   \n",
       "\n",
       "  inflight_wifi day_of_week redeye weekend  coach_price  firstclass_price  \\\n",
       "0           Yes      Sunday    Yes     Yes      338.820           1571.02   \n",
       "1           Yes      Sunday     No     Yes      472.655           1663.70   \n",
       "2            No      Friday     No     Yes      351.960           1429.86   \n",
       "3           Yes    Saturday     No     Yes      387.835           1558.76   \n",
       "4           Yes      Monday     No      No      374.735           1245.58   \n",
       "\n",
       "   hours  \n",
       "0      1  \n",
       "1      6  \n",
       "2      3  \n",
       "3      2  \n",
       "4      2  "
      ]
     },
     "execution_count": 42,
     "metadata": {},
     "output_type": "execute_result"
    }
   ],
   "source": [
    "#Reading out the data.\n",
    "flight=pd.read_csv('flight.csv')\n",
    "flight.head()"
   ]
  },
  {
   "cell_type": "code",
   "execution_count": 43,
   "id": "motivated-supervision",
   "metadata": {},
   "outputs": [
    {
     "name": "stdout",
     "output_type": "stream",
     "text": [
      "<class 'pandas.core.frame.DataFrame'>\n",
      "RangeIndex: 129780 entries, 0 to 129779\n",
      "Data columns (total 12 columns):\n",
      " #   Column                  Non-Null Count   Dtype  \n",
      "---  ------                  --------------   -----  \n",
      " 0   miles                   129780 non-null  int64  \n",
      " 1   passengers              129780 non-null  int64  \n",
      " 2   delay                   129780 non-null  int64  \n",
      " 3   inflight_meal           129780 non-null  object \n",
      " 4   inflight_entertainment  129780 non-null  object \n",
      " 5   inflight_wifi           129780 non-null  object \n",
      " 6   day_of_week             129780 non-null  object \n",
      " 7   redeye                  129780 non-null  object \n",
      " 8   weekend                 129780 non-null  object \n",
      " 9   coach_price             129780 non-null  float64\n",
      " 10  firstclass_price        129780 non-null  float64\n",
      " 11  hours                   129780 non-null  int64  \n",
      "dtypes: float64(2), int64(4), object(6)\n",
      "memory usage: 11.9+ MB\n"
     ]
    }
   ],
   "source": [
    "flight.info()"
   ]
  },
  {
   "cell_type": "code",
   "execution_count": 44,
   "id": "stunning-isaac",
   "metadata": {},
   "outputs": [
    {
     "data": {
      "text/html": [
       "<div>\n",
       "<style scoped>\n",
       "    .dataframe tbody tr th:only-of-type {\n",
       "        vertical-align: middle;\n",
       "    }\n",
       "\n",
       "    .dataframe tbody tr th {\n",
       "        vertical-align: top;\n",
       "    }\n",
       "\n",
       "    .dataframe thead th {\n",
       "        text-align: right;\n",
       "    }\n",
       "</style>\n",
       "<table border=\"1\" class=\"dataframe\">\n",
       "  <thead>\n",
       "    <tr style=\"text-align: right;\">\n",
       "      <th></th>\n",
       "      <th>count</th>\n",
       "      <th>mean</th>\n",
       "      <th>std</th>\n",
       "      <th>min</th>\n",
       "      <th>5%</th>\n",
       "      <th>10%</th>\n",
       "      <th>25%</th>\n",
       "      <th>50%</th>\n",
       "      <th>75%</th>\n",
       "      <th>90%</th>\n",
       "      <th>95%</th>\n",
       "      <th>max</th>\n",
       "    </tr>\n",
       "  </thead>\n",
       "  <tbody>\n",
       "    <tr>\n",
       "      <th>miles</th>\n",
       "      <td>129780.0</td>\n",
       "      <td>2006.224696</td>\n",
       "      <td>943.034768</td>\n",
       "      <td>12.000</td>\n",
       "      <td>662.00000</td>\n",
       "      <td>762.000</td>\n",
       "      <td>1343.000</td>\n",
       "      <td>1986.00</td>\n",
       "      <td>2468.00000</td>\n",
       "      <td>3640.00</td>\n",
       "      <td>3998.00000</td>\n",
       "      <td>4548.000</td>\n",
       "    </tr>\n",
       "    <tr>\n",
       "      <th>passengers</th>\n",
       "      <td>129780.0</td>\n",
       "      <td>207.723155</td>\n",
       "      <td>12.776363</td>\n",
       "      <td>135.000</td>\n",
       "      <td>184.00000</td>\n",
       "      <td>197.000</td>\n",
       "      <td>204.000</td>\n",
       "      <td>210.00</td>\n",
       "      <td>215.00000</td>\n",
       "      <td>220.00</td>\n",
       "      <td>223.00000</td>\n",
       "      <td>244.000</td>\n",
       "    </tr>\n",
       "    <tr>\n",
       "      <th>delay</th>\n",
       "      <td>129780.0</td>\n",
       "      <td>13.162845</td>\n",
       "      <td>41.941680</td>\n",
       "      <td>0.000</td>\n",
       "      <td>0.00000</td>\n",
       "      <td>6.000</td>\n",
       "      <td>9.000</td>\n",
       "      <td>10.00</td>\n",
       "      <td>13.00000</td>\n",
       "      <td>24.00</td>\n",
       "      <td>30.00000</td>\n",
       "      <td>1560.000</td>\n",
       "    </tr>\n",
       "    <tr>\n",
       "      <th>coach_price</th>\n",
       "      <td>129780.0</td>\n",
       "      <td>376.585253</td>\n",
       "      <td>67.744274</td>\n",
       "      <td>44.415</td>\n",
       "      <td>257.99975</td>\n",
       "      <td>286.355</td>\n",
       "      <td>331.445</td>\n",
       "      <td>380.56</td>\n",
       "      <td>426.67625</td>\n",
       "      <td>460.49</td>\n",
       "      <td>479.24525</td>\n",
       "      <td>593.635</td>\n",
       "    </tr>\n",
       "    <tr>\n",
       "      <th>firstclass_price</th>\n",
       "      <td>129780.0</td>\n",
       "      <td>1454.931785</td>\n",
       "      <td>162.590434</td>\n",
       "      <td>939.100</td>\n",
       "      <td>1177.27950</td>\n",
       "      <td>1216.710</td>\n",
       "      <td>1302.200</td>\n",
       "      <td>1503.84</td>\n",
       "      <td>1582.37000</td>\n",
       "      <td>1637.65</td>\n",
       "      <td>1669.96000</td>\n",
       "      <td>1846.780</td>\n",
       "    </tr>\n",
       "    <tr>\n",
       "      <th>hours</th>\n",
       "      <td>129780.0</td>\n",
       "      <td>3.631214</td>\n",
       "      <td>1.739118</td>\n",
       "      <td>1.000</td>\n",
       "      <td>1.00000</td>\n",
       "      <td>1.000</td>\n",
       "      <td>2.000</td>\n",
       "      <td>4.00</td>\n",
       "      <td>4.00000</td>\n",
       "      <td>7.00</td>\n",
       "      <td>7.00000</td>\n",
       "      <td>8.000</td>\n",
       "    </tr>\n",
       "  </tbody>\n",
       "</table>\n",
       "</div>"
      ],
      "text/plain": [
       "                     count         mean         std      min          5%  \\\n",
       "miles             129780.0  2006.224696  943.034768   12.000   662.00000   \n",
       "passengers        129780.0   207.723155   12.776363  135.000   184.00000   \n",
       "delay             129780.0    13.162845   41.941680    0.000     0.00000   \n",
       "coach_price       129780.0   376.585253   67.744274   44.415   257.99975   \n",
       "firstclass_price  129780.0  1454.931785  162.590434  939.100  1177.27950   \n",
       "hours             129780.0     3.631214    1.739118    1.000     1.00000   \n",
       "\n",
       "                       10%       25%      50%         75%      90%  \\\n",
       "miles              762.000  1343.000  1986.00  2468.00000  3640.00   \n",
       "passengers         197.000   204.000   210.00   215.00000   220.00   \n",
       "delay                6.000     9.000    10.00    13.00000    24.00   \n",
       "coach_price        286.355   331.445   380.56   426.67625   460.49   \n",
       "firstclass_price  1216.710  1302.200  1503.84  1582.37000  1637.65   \n",
       "hours                1.000     2.000     4.00     4.00000     7.00   \n",
       "\n",
       "                         95%       max  \n",
       "miles             3998.00000  4548.000  \n",
       "passengers         223.00000   244.000  \n",
       "delay               30.00000  1560.000  \n",
       "coach_price        479.24525   593.635  \n",
       "firstclass_price  1669.96000  1846.780  \n",
       "hours                7.00000     8.000  "
      ]
     },
     "execution_count": 44,
     "metadata": {},
     "output_type": "execute_result"
    }
   ],
   "source": [
    "flight.describe(percentiles=[0.05,0.1,0.25,0.75,0.9,0.95]).T"
   ]
  },
  {
   "cell_type": "code",
   "execution_count": 45,
   "id": "requested-journalist",
   "metadata": {},
   "outputs": [
    {
     "data": {
      "text/plain": [
       "miles                     0\n",
       "passengers                0\n",
       "delay                     0\n",
       "inflight_meal             0\n",
       "inflight_entertainment    0\n",
       "inflight_wifi             0\n",
       "day_of_week               0\n",
       "redeye                    0\n",
       "weekend                   0\n",
       "coach_price               0\n",
       "firstclass_price          0\n",
       "hours                     0\n",
       "dtype: int64"
      ]
     },
     "execution_count": 45,
     "metadata": {},
     "output_type": "execute_result"
    }
   ],
   "source": [
    "#Check for null values\n",
    "flight.isna().sum()"
   ]
  },
  {
   "cell_type": "code",
   "execution_count": 46,
   "id": "interpreted-picture",
   "metadata": {},
   "outputs": [
    {
     "data": {
      "text/plain": [
       "0"
      ]
     },
     "execution_count": 46,
     "metadata": {},
     "output_type": "execute_result"
    }
   ],
   "source": [
    "#Checking if there is any Duplicate value present in the dataset?\n",
    "flight.duplicated().sum()"
   ]
  },
  {
   "cell_type": "code",
   "execution_count": 47,
   "id": "listed-munich",
   "metadata": {},
   "outputs": [
    {
     "data": {
      "text/plain": [
       "(129780, 12)"
      ]
     },
     "execution_count": 47,
     "metadata": {},
     "output_type": "execute_result"
    }
   ],
   "source": [
    "flight.shape"
   ]
  },
  {
   "cell_type": "code",
   "execution_count": 48,
   "id": "regulation-tunnel",
   "metadata": {},
   "outputs": [
    {
     "data": {
      "text/plain": [
       "Saturday     0.259948\n",
       "Sunday       0.218046\n",
       "Friday       0.174210\n",
       "Monday       0.108376\n",
       "Tuesday      0.087772\n",
       "Wednesday    0.086462\n",
       "Thursday     0.065187\n",
       "Name: day_of_week, dtype: float64"
      ]
     },
     "execution_count": 48,
     "metadata": {},
     "output_type": "execute_result"
    }
   ],
   "source": [
    "\n",
    "flight['day_of_week'].value_counts(normalize=True) "
   ]
  },
  {
   "cell_type": "code",
   "execution_count": 49,
   "id": "associate-ending",
   "metadata": {},
   "outputs": [
    {
     "data": {
      "text/plain": [
       "count       129780\n",
       "unique           7\n",
       "top       Saturday\n",
       "freq         33736\n",
       "Name: day_of_week, dtype: object"
      ]
     },
     "execution_count": 49,
     "metadata": {},
     "output_type": "execute_result"
    }
   ],
   "source": [
    "flight.day_of_week.describe()"
   ]
  },
  {
   "cell_type": "code",
   "execution_count": 50,
   "id": "electric-parish",
   "metadata": {},
   "outputs": [
    {
     "data": {
      "text/plain": [
       "[Text(0.5, 0, 'day_of_airline'), Text(0, 0.5, 'count')]"
      ]
     },
     "execution_count": 50,
     "metadata": {},
     "output_type": "execute_result"
    },
    {
     "data": {
      "image/png": "[encoded data removed]",
      "text/plain": [
       "<Figure size 576x432 with 1 Axes>"
      ]
     },
     "metadata": {
      "needs_background": "light"
     },
     "output_type": "display_data"
    }
   ],
   "source": [
    "plt.figure(figsize=(8, 6))\n",
    "plt1 = flight.day_of_week.value_counts().plot(kind='bar')\n",
    "plt.title('day_of_week histogram', fontsize=20)\n",
    "plt1.set(xlabel = 'day_of_airline', ylabel='count')\n"
   ]
  },
  {
   "cell_type": "code",
   "execution_count": 51,
   "id": "muslim-program",
   "metadata": {},
   "outputs": [
    {
     "data": {
      "text/plain": [
       "<AxesSubplot:ylabel='day_of_week'>"
      ]
     },
     "execution_count": 51,
     "metadata": {},
     "output_type": "execute_result"
    },
    {
     "data": {
      "image/png": "[encoded data removed]",
      "text/plain": [
       "<Figure size 720x576 with 1 Axes>"
      ]
     },
     "metadata": {},
     "output_type": "display_data"
    }
   ],
   "source": [
    "plt.figure(figsize=(10,8))\n",
    "s = flight[\"day_of_week\"].value_counts(ascending=False).plot(kind =\"pie\", autopct='%1.0f%%', shadow=True)\n",
    "s"
   ]
  },
  {
   "cell_type": "code",
   "execution_count": 52,
   "id": "basic-general",
   "metadata": {},
   "outputs": [
    {
     "ename": "SyntaxError",
     "evalue": "invalid syntax (<ipython-input-52-404f2c3d5c91>, line 1)",
     "output_type": "error",
     "traceback": [
      "\u001b[0;36m  File \u001b[0;32m\"<ipython-input-52-404f2c3d5c91>\"\u001b[0;36m, line \u001b[0;32m1\u001b[0m\n\u001b[0;31m    Above Analysis shows,\u001b[0m\n\u001b[0m          ^\u001b[0m\n\u001b[0;31mSyntaxError\u001b[0m\u001b[0;31m:\u001b[0m invalid syntax\n"
     ]
    }
   ],
   "source": [
    "\n",
    "\n",
    "     Above Analysis shows,\n",
    "\n",
    "   \n",
    "    > With highest frequency, Saturday is the most preferred Day_of_week by passengers and Thutsday is the least preferred day_of_week.\n",
    "\n"
   ]
  },
  {
   "cell_type": "code",
   "execution_count": 53,
   "id": "cleared-convention",
   "metadata": {},
   "outputs": [
    {
     "data": {
      "text/plain": [
       "210    6299\n",
       "209    6071\n",
       "211    6016\n",
       "212    5984\n",
       "208    5962\n",
       "       ... \n",
       "140       1\n",
       "138       1\n",
       "243       1\n",
       "241       1\n",
       "136       1\n",
       "Name: passengers, Length: 109, dtype: int64"
      ]
     },
     "execution_count": 53,
     "metadata": {},
     "output_type": "execute_result"
    }
   ],
   "source": [
    "flight['passengers'].value_counts()"
   ]
  },
  {
   "cell_type": "code",
   "execution_count": 54,
   "id": "institutional-profession",
   "metadata": {},
   "outputs": [
    {
     "data": {
      "text/plain": [
       "Yes    0.652204\n",
       "No     0.347796\n",
       "Name: weekend, dtype: float64"
      ]
     },
     "execution_count": 54,
     "metadata": {},
     "output_type": "execute_result"
    }
   ],
   "source": [
    "flight['weekend'].value_counts(normalize= True) \n"
   ]
  },
  {
   "cell_type": "code",
   "execution_count": 55,
   "id": "peripheral-hartford",
   "metadata": {},
   "outputs": [
    {
     "data": {
      "text/plain": [
       "<AxesSubplot:title={'center':'weekend Histogram'}, xlabel='weekend', ylabel='count'>"
      ]
     },
     "execution_count": 55,
     "metadata": {},
     "output_type": "execute_result"
    },
    {
     "data": {
      "image/png": "[encoded data removed]",
      "text/plain": [
       "<Figure size 720x432 with 1 Axes>"
      ]
     },
     "metadata": {
      "needs_background": "light"
     },
     "output_type": "display_data"
    }
   ],
   "source": [
    "plt.figure(figsize=(10,6))\n",
    "\n",
    "plt.subplot(1,2,1)\n",
    "plt.title('weekend Histogram')\n",
    "sns.countplot(flight['weekend'], palette=(\"crest\"))\n",
    "\n"
   ]
  },
  {
   "cell_type": "code",
   "execution_count": 56,
   "id": "mexican-munich",
   "metadata": {},
   "outputs": [
    {
     "data": {
      "image/png": "[encoded data removed]",
      "text/plain": [
       "<Figure size 720x432 with 1 Axes>"
      ]
     },
     "metadata": {},
     "output_type": "display_data"
    }
   ],
   "source": [
    "def pie_chart(x):\n",
    "    palette_color = sns.color_palette('crest')\n",
    "\n",
    "    values = [  ]\n",
    "    for i in x.value_counts():\n",
    "        values.append(i)\n",
    "\n",
    "    label = x.unique()\n",
    "    \n",
    "    plt.pie(values, labels=label, colors=palette_color ,autopct='%.0f%%', rotatelabels=True )\n",
    "    \n",
    "    return plt.show()\n",
    "\n",
    "plt.figure(figsize=(10,6))\n",
    "pie_chart(flight[\"weekend\"])"
   ]
  },
  {
   "cell_type": "code",
   "execution_count": 57,
   "id": "outer-nancy",
   "metadata": {},
   "outputs": [
    {
     "ename": "SyntaxError",
     "evalue": "invalid syntax (<ipython-input-57-01f20bfcf648>, line 1)",
     "output_type": "error",
     "traceback": [
      "\u001b[0;36m  File \u001b[0;32m\"<ipython-input-57-01f20bfcf648>\"\u001b[0;36m, line \u001b[0;32m1\u001b[0m\n\u001b[0;31m    Above Analysis shows,\u001b[0m\n\u001b[0m          ^\u001b[0m\n\u001b[0;31mSyntaxError\u001b[0m\u001b[0;31m:\u001b[0m invalid syntax\n"
     ]
    }
   ],
   "source": [
    "\n",
    "\n",
    "Above Analysis shows,\n",
    "\n",
    "    Weekend has two values: Yes and No.\n",
    "    It contains information on  WEEKEND. YES IN WEEKEND flights are higher in number in comparison with NO in weekend  as you can see about 65% of people booked tickets in weekend.\n",
    "\n"
   ]
  },
  {
   "cell_type": "code",
   "execution_count": null,
   "id": "painful-failure",
   "metadata": {},
   "outputs": [],
   "source": [
    "flight.hours.describe()"
   ]
  },
  {
   "cell_type": "code",
   "execution_count": 58,
   "id": "immediate-balance",
   "metadata": {},
   "outputs": [
    {
     "data": {
      "text/plain": [
       "array([1, 6, 3, 2, 4, 7, 5, 8])"
      ]
     },
     "execution_count": 58,
     "metadata": {},
     "output_type": "execute_result"
    }
   ],
   "source": [
    "flight.hours.unique()\n"
   ]
  },
  {
   "cell_type": "code",
   "execution_count": 59,
   "id": "sealed-vietnam",
   "metadata": {},
   "outputs": [
    {
     "data": {
      "text/plain": [
       "<AxesSubplot:xlabel='hours'>"
      ]
     },
     "execution_count": 59,
     "metadata": {},
     "output_type": "execute_result"
    },
    {
     "data": {
      "image/png": "[encoded data removed]",
      "text/plain": [
       "<Figure size 432x288 with 1 Axes>"
      ]
     },
     "metadata": {
      "needs_background": "light"
     },
     "output_type": "display_data"
    }
   ],
   "source": [
    "sns.boxplot(flight['hours'])"
   ]
  },
  {
   "cell_type": "code",
   "execution_count": 60,
   "id": "breeding-complex",
   "metadata": {},
   "outputs": [
    {
     "ename": "SyntaxError",
     "evalue": "invalid syntax (<ipython-input-60-dc4af248078f>, line 1)",
     "output_type": "error",
     "traceback": [
      "\u001b[0;36m  File \u001b[0;32m\"<ipython-input-60-dc4af248078f>\"\u001b[0;36m, line \u001b[0;32m1\u001b[0m\n\u001b[0;31m    .This shows the number of hours between booking time and day.\u001b[0m\n\u001b[0m    ^\u001b[0m\n\u001b[0;31mSyntaxError\u001b[0m\u001b[0;31m:\u001b[0m invalid syntax\n"
     ]
    }
   ],
   "source": [
    ".This shows the number of hours between booking time and day.\n",
    ".It is showing a range from 1-8 hours between booking time and day .\n",
    " "
   ]
  },
  {
   "cell_type": "code",
   "execution_count": 61,
   "id": "excessive-admission",
   "metadata": {},
   "outputs": [
    {
     "data": {
      "text/plain": [
       "count    129780.000000\n",
       "mean        376.585253\n",
       "std          67.744274\n",
       "min          44.415000\n",
       "25%         331.445000\n",
       "50%         380.560000\n",
       "75%         426.676250\n",
       "max         593.635000\n",
       "Name: coach_price, dtype: float64"
      ]
     },
     "execution_count": 61,
     "metadata": {},
     "output_type": "execute_result"
    }
   ],
   "source": [
    "flight.coach_price.describe()"
   ]
  },
  {
   "cell_type": "code",
   "execution_count": 62,
   "id": "administrative-jamaica",
   "metadata": {},
   "outputs": [
    {
     "data": {
      "text/plain": [
       "<AxesSubplot:xlabel='coach_price'>"
      ]
     },
     "execution_count": 62,
     "metadata": {},
     "output_type": "execute_result"
    },
    {
     "data": {
      "image/png": "[encoded data removed]",
      "text/plain": [
       "<Figure size 432x288 with 1 Axes>"
      ]
     },
     "metadata": {
      "needs_background": "light"
     },
     "output_type": "display_data"
    }
   ],
   "source": [
    "sns.boxplot(flight['coach_price'])"
   ]
  },
  {
   "cell_type": "code",
   "execution_count": 63,
   "id": "acknowledged-result",
   "metadata": {},
   "outputs": [
    {
     "ename": "SyntaxError",
     "evalue": "invalid syntax (<ipython-input-63-f38f79649d2a>, line 1)",
     "output_type": "error",
     "traceback": [
      "\u001b[0;36m  File \u001b[0;32m\"<ipython-input-63-f38f79649d2a>\"\u001b[0;36m, line \u001b[0;32m1\u001b[0m\n\u001b[0;31m    The above shows the coach_price of flights.\u001b[0m\n\u001b[0m        ^\u001b[0m\n\u001b[0;31mSyntaxError\u001b[0m\u001b[0;31m:\u001b[0m invalid syntax\n"
     ]
    }
   ],
   "source": [
    "The above shows the coach_price of flights."
   ]
  },
  {
   "cell_type": "code",
   "execution_count": 64,
   "id": "medium-comment",
   "metadata": {},
   "outputs": [
    {
     "data": {
      "text/plain": [
       "<AxesSubplot:xlabel='coach_price', ylabel='Density'>"
      ]
     },
     "execution_count": 64,
     "metadata": {},
     "output_type": "execute_result"
    },
    {
     "data": {
      "image/png": "[encoded data removed]",
      "text/plain": [
       "<Figure size 432x288 with 1 Axes>"
      ]
     },
     "metadata": {
      "needs_background": "light"
     },
     "output_type": "display_data"
    }
   ],
   "source": [
    "sns.distplot(flight['coach_price'])"
   ]
  },
  {
   "cell_type": "code",
   "execution_count": 65,
   "id": "wooden-constitutional",
   "metadata": {},
   "outputs": [
    {
     "ename": "SyntaxError",
     "evalue": "invalid syntax (<ipython-input-65-68a235c8df27>, line 1)",
     "output_type": "error",
     "traceback": [
      "\u001b[0;36m  File \u001b[0;32m\"<ipython-input-65-68a235c8df27>\"\u001b[0;36m, line \u001b[0;32m1\u001b[0m\n\u001b[0;31m    the above shows:\u001b[0m\n\u001b[0m        ^\u001b[0m\n\u001b[0;31mSyntaxError\u001b[0m\u001b[0;31m:\u001b[0m invalid syntax\n"
     ]
    }
   ],
   "source": [
    " the above shows:\n",
    "    the mean is around 350, we can see here that the median is approximately 430. \n",
    "    This difference is explainable by the presence of days of the week. \n",
    "    On the graph, we can see that the dispersion seems to be composed by two gaussian curves."
   ]
  },
  {
   "cell_type": "code",
   "execution_count": null,
   "id": "adolescent-qatar",
   "metadata": {},
   "outputs": [],
   "source": [
    "x = flight[\"day_of_week\"]\n",
    "y = flight[\"coach_price\"]\n",
    "colors = flight[\"coach_price\"]\n",
    "sizes = flight[\"coach_price\"]\n",
    "\n",
    "plt.figure(figsize = (25, 8))\n",
    "plt.ticklabel_format(style = 'plain')\n",
    "plt.title('relationship between coach_price vs day_of_week')\n",
    "plt.scatter(x, y, c = colors, s = sizes, alpha = 0.3, cmap = 'viridis')\n",
    "plt.colorbar();"
   ]
  },
  {
   "cell_type": "code",
   "execution_count": null,
   "id": "fatal-shower",
   "metadata": {},
   "outputs": [],
   "source": [
    "the above shows how the price vary during the days of the week saturday have the highest price variation, \n",
    "monday is the lowest."
   ]
  },
  {
   "cell_type": "code",
   "execution_count": null,
   "id": "concrete-relevance",
   "metadata": {},
   "outputs": [],
   "source": [
    "1. DOES COACH_PRICE VARYS DURING THE DAY_OF_WEEK"
   ]
  },
  {
   "cell_type": "code",
   "execution_count": null,
   "id": "sitting-eating",
   "metadata": {},
   "outputs": [],
   "source": [
    "flight.groupby('day_of_week')['coach_price'].mean().sort_values(ascending = False)"
   ]
  },
  {
   "cell_type": "code",
   "execution_count": null,
   "id": "yellow-watts",
   "metadata": {},
   "outputs": [],
   "source": [
    "plt.figure(figsize=(8,7))\n",
    "sns.barplot(x=\"day_of_week\" , y =\"coach_price\" ,ci=False , data=flight,)\n",
    "plt.xlabel(\"days of the week \", fontsize=40)\n",
    "plt.ylabel(\"coach Price\", fontsize=30)\n",
    "plt.title(\"coach_price variation during the week\" ,  fontsize=20)\n",
    "plt.legend(loc='best')\n",
    "plt.show()"
   ]
  },
  {
   "cell_type": "code",
   "execution_count": 66,
   "id": "appreciated-mercury",
   "metadata": {},
   "outputs": [
    {
     "data": {
      "text/plain": [
       "count    129780.000000\n",
       "mean        376.585253\n",
       "std          67.744274\n",
       "min          44.415000\n",
       "25%         331.445000\n",
       "50%         380.560000\n",
       "75%         426.676250\n",
       "max         593.635000\n",
       "Name: coach_price, dtype: float64"
      ]
     },
     "execution_count": 66,
     "metadata": {},
     "output_type": "execute_result"
    }
   ],
   "source": [
    "#2.Does $500 seen as a good price for a coach ticket?\n",
    "flight['coach_price'].describe()"
   ]
  },
  {
   "cell_type": "code",
   "execution_count": 67,
   "id": "fleet-coordinator",
   "metadata": {},
   "outputs": [
    {
     "data": {
      "text/plain": [
       "<AxesSubplot:xlabel='coach_price', ylabel='Count'>"
      ]
     },
     "execution_count": 67,
     "metadata": {},
     "output_type": "execute_result"
    },
    {
     "data": {
      "image/png": "[encoded data removed]",
      "text/plain": [
       "<Figure size 432x288 with 1 Axes>"
      ]
     },
     "metadata": {
      "needs_background": "light"
     },
     "output_type": "display_data"
    }
   ],
   "source": [
    "sns.histplot(x='coach_price',data=flight,bins=20)"
   ]
  },
  {
   "cell_type": "code",
   "execution_count": 68,
   "id": "collective-framework",
   "metadata": {},
   "outputs": [
    {
     "data": {
      "text/html": [
       "<style>#sk-container-id-3 {color: black;background-color: white;}#sk-container-id-3 pre{padding: 0;}#sk-container-id-3 div.sk-toggleable {background-color: white;}#sk-container-id-3 label.sk-toggleable__label {cursor: pointer;display: block;width: 100%;margin-bottom: 0;padding: 0.3em;box-sizing: border-box;text-align: center;}#sk-container-id-3 label.sk-toggleable__label-arrow:before {content: \"▸\";float: left;margin-right: 0.25em;color: #696969;}#sk-container-id-3 label.sk-toggleable__label-arrow:hover:before {color: black;}#sk-container-id-3 div.sk-estimator:hover label.sk-toggleable__label-arrow:before {color: black;}#sk-container-id-3 div.sk-toggleable__content {max-height: 0;max-width: 0;overflow: hidden;text-align: left;background-color: #f0f8ff;}#sk-container-id-3 div.sk-toggleable__content pre {margin: 0.2em;color: black;border-radius: 0.25em;background-color: #f0f8ff;}#sk-container-id-3 input.sk-toggleable__control:checked~div.sk-toggleable__content {max-height: 200px;max-width: 100%;overflow: auto;}#sk-container-id-3 input.sk-toggleable__control:checked~label.sk-toggleable__label-arrow:before {content: \"▾\";}#sk-container-id-3 div.sk-estimator input.sk-toggleable__control:checked~label.sk-toggleable__label {background-color: #d4ebff;}#sk-container-id-3 div.sk-label input.sk-toggleable__control:checked~label.sk-toggleable__label {background-color: #d4ebff;}#sk-container-id-3 input.sk-hidden--visually {border: 0;clip: rect(1px 1px 1px 1px);clip: rect(1px, 1px, 1px, 1px);height: 1px;margin: -1px;overflow: hidden;padding: 0;position: absolute;width: 1px;}#sk-container-id-3 div.sk-estimator {font-family: monospace;background-color: #f0f8ff;border: 1px dotted black;border-radius: 0.25em;box-sizing: border-box;margin-bottom: 0.5em;}#sk-container-id-3 div.sk-estimator:hover {background-color: #d4ebff;}#sk-container-id-3 div.sk-parallel-item::after {content: \"\";width: 100%;border-bottom: 1px solid gray;flex-grow: 1;}#sk-container-id-3 div.sk-label:hover label.sk-toggleable__label {background-color: #d4ebff;}#sk-container-id-3 div.sk-serial::before {content: \"\";position: absolute;border-left: 1px solid gray;box-sizing: border-box;top: 0;bottom: 0;left: 50%;z-index: 0;}#sk-container-id-3 div.sk-serial {display: flex;flex-direction: column;align-items: center;background-color: white;padding-right: 0.2em;padding-left: 0.2em;position: relative;}#sk-container-id-3 div.sk-item {position: relative;z-index: 1;}#sk-container-id-3 div.sk-parallel {display: flex;align-items: stretch;justify-content: center;background-color: white;position: relative;}#sk-container-id-3 div.sk-item::before, #sk-container-id-3 div.sk-parallel-item::before {content: \"\";position: absolute;border-left: 1px solid gray;box-sizing: border-box;top: 0;bottom: 0;left: 50%;z-index: -1;}#sk-container-id-3 div.sk-parallel-item {display: flex;flex-direction: column;z-index: 1;position: relative;background-color: white;}#sk-container-id-3 div.sk-parallel-item:first-child::after {align-self: flex-end;width: 50%;}#sk-container-id-3 div.sk-parallel-item:last-child::after {align-self: flex-start;width: 50%;}#sk-container-id-3 div.sk-parallel-item:only-child::after {width: 0;}#sk-container-id-3 div.sk-dashed-wrapped {border: 1px dashed gray;margin: 0 0.4em 0.5em 0.4em;box-sizing: border-box;padding-bottom: 0.4em;background-color: white;}#sk-container-id-3 div.sk-label label {font-family: monospace;font-weight: bold;display: inline-block;line-height: 1.2em;}#sk-container-id-3 div.sk-label-container {text-align: center;}#sk-container-id-3 div.sk-container {/* jupyter's `normalize.less` sets `[hidden] { display: none; }` but bootstrap.min.css set `[hidden] { display: none !important; }` so we also need the `!important` here to be able to override the default hidden behavior on the sphinx rendered scikit-learn.org. See: https://github.com/scikit-learn/scikit-learn/issues/21755 */display: inline-block !important;position: relative;}#sk-container-id-3 div.sk-text-repr-fallback {display: none;}</style><div id=\"sk-container-id-3\" class=\"sk-top-container\"><div class=\"sk-text-repr-fallback\"><pre>RandomForestRegressor(max_depth=10, n_estimators=10, random_state=101)</pre><b>In a Jupyter environment, please rerun this cell to show the HTML representation or trust the notebook. <br />On GitHub, the HTML representation is unable to render, please try loading this page with nbviewer.org.</b></div><div class=\"sk-container\" hidden><div class=\"sk-item\"><div class=\"sk-estimator sk-toggleable\"><input class=\"sk-toggleable__control sk-hidden--visually\" id=\"sk-estimator-id-3\" type=\"checkbox\" checked><label for=\"sk-estimator-id-3\" class=\"sk-toggleable__label sk-toggleable__label-arrow\">RandomForestRegressor</label><div class=\"sk-toggleable__content\"><pre>RandomForestRegressor(max_depth=10, n_estimators=10, random_state=101)</pre></div></div></div></div></div>"
      ],
      "text/plain": [
       "RandomForestRegressor(max_depth=10, n_estimators=10, random_state=101)"
      ]
     },
     "execution_count": 68,
     "metadata": {},
     "output_type": "execute_result"
    }
   ],
   "source": [
    "#TRAIN OUR MODEL \n",
    "\n",
    "X = flight[['passengers', 'delay', 'hours',]]\n",
    "\n",
    "y = flight[['coach_price']]\n",
    "\n",
    "#Let's train our model by import necessary libraries (RandomForestRegressor and train_test_split)\n",
    "from sklearn.ensemble import RandomForestRegressor\n",
    "from sklearn.model_selection import train_test_split\n",
    "# Splitting data into training and test sets\n",
    "\n",
    "\n",
    "X_train, X_test, y_train, y_test = train_test_split(X, y, test_size = 25, random_state = 101)\n",
    "\n",
    "\n",
    "# Train the Model\n",
    "\n",
    "\n",
    "regr = RandomForestRegressor(n_estimators = 10, max_depth = 10, random_state = 101)\n",
    "\n",
    "regr.fit(X_train, y_train.values.ravel())\n",
    "\n"
   ]
  },
  {
   "cell_type": "code",
   "execution_count": 69,
   "id": "sixth-departure",
   "metadata": {},
   "outputs": [
    {
     "data": {
      "text/html": [
       "<div>\n",
       "<style scoped>\n",
       "    .dataframe tbody tr th:only-of-type {\n",
       "        vertical-align: middle;\n",
       "    }\n",
       "\n",
       "    .dataframe tbody tr th {\n",
       "        vertical-align: top;\n",
       "    }\n",
       "\n",
       "    .dataframe thead th {\n",
       "        text-align: right;\n",
       "    }\n",
       "</style>\n",
       "<table border=\"1\" class=\"dataframe\">\n",
       "  <thead>\n",
       "    <tr style=\"text-align: right;\">\n",
       "      <th></th>\n",
       "      <th>passengers</th>\n",
       "      <th>delay</th>\n",
       "      <th>hours</th>\n",
       "      <th>price</th>\n",
       "      <th>prediction</th>\n",
       "    </tr>\n",
       "  </thead>\n",
       "  <tbody>\n",
       "    <tr>\n",
       "      <th>37167</th>\n",
       "      <td>211</td>\n",
       "      <td>8</td>\n",
       "      <td>8</td>\n",
       "      <td>402.110</td>\n",
       "      <td>432.702046</td>\n",
       "    </tr>\n",
       "    <tr>\n",
       "      <th>10175</th>\n",
       "      <td>214</td>\n",
       "      <td>10</td>\n",
       "      <td>1</td>\n",
       "      <td>230.335</td>\n",
       "      <td>346.149892</td>\n",
       "    </tr>\n",
       "    <tr>\n",
       "      <th>58788</th>\n",
       "      <td>202</td>\n",
       "      <td>9</td>\n",
       "      <td>4</td>\n",
       "      <td>288.000</td>\n",
       "      <td>382.920988</td>\n",
       "    </tr>\n",
       "  </tbody>\n",
       "</table>\n",
       "</div>"
      ],
      "text/plain": [
       "       passengers  delay  hours    price  prediction\n",
       "37167         211      8      8  402.110  432.702046\n",
       "10175         214     10      1  230.335  346.149892\n",
       "58788         202      9      4  288.000  382.920988"
      ]
     },
     "execution_count": 69,
     "metadata": {},
     "output_type": "execute_result"
    }
   ],
   "source": [
    "#Final step, let's predict the coach_price with trained data.\n",
    "import warnings\n",
    "warnings.filterwarnings('ignore')\n",
    "\n",
    "\n",
    "# Make prediction\n",
    "predictions = regr.predict(X_test)\n",
    "\n",
    "\n",
    "result = X_test\n",
    "result['price'] = y_test\n",
    "result['prediction'] = predictions.tolist()\n",
    "\n",
    "\n",
    "result.head(3)\n"
   ]
  },
  {
   "cell_type": "code",
   "execution_count": 72,
   "id": "amended-karen",
   "metadata": {},
   "outputs": [
    {
     "data": {
      "image/png": "[encoded data removed]",
      "text/plain": [
       "<Figure size 432x288 with 1 Axes>"
      ]
     },
     "metadata": {
      "needs_background": "light"
     },
     "output_type": "display_data"
    }
   ],
   "source": [
    "#(We added new prediction column at the end which contains our model's predicted prices. \n",
    "#On first row, actual price is 1781 but prediction is 1700.\n",
    "#We can't compare line by line when data is huge. It's always useful to visualize the results before evaluation.\n",
    "#So let's visualize our results using matplotlib's scatter graph.)\n",
    "# Define x axis\n",
    "x_axis = X_test.passengers\n",
    "\n",
    "\n",
    "# Build scatterplot\n",
    "\n",
    "plt.scatter(x_axis, y_test, c = 'b', alpha = 0.5, marker = '.', label = 'Real')\n",
    "plt.scatter(x_axis, predictions, c = 'r', alpha = 0.5, marker = '.', label = 'Predicted')\n",
    "\n",
    "plt.xlabel('passengers')\n",
    "plt.ylabel('coach_price')\n",
    "\n",
    "plt.grid(color = '#D3D3D3', linestyle = 'solid')\n",
    "\n",
    "plt.legend(loc = 'lower right')\n",
    "\n",
    "plt.show()\n"
   ]
  },
  {
   "cell_type": "code",
   "execution_count": null,
   "id": "literary-campus",
   "metadata": {},
   "outputs": [],
   "source": [
    "On this scatter graph, results looks promising - specially for smaller Carats. Blue dots are real prices and Red dots are prices our model predicted. But as being Data Analyst or Data Scientist, our job does not stop here. We must see how good or bad our model is based on statistical formula. In the next step, we will evaluate our model."
   ]
  },
  {
   "cell_type": "code",
   "execution_count": null,
   "id": "improving-analysis",
   "metadata": {},
   "outputs": [],
   "source": []
  }
 ],
 "metadata": {
  "kernelspec": {
   "display_name": "Python 3",
   "language": "python",
   "name": "python3"
  },
  "language_info": {
   "codemirror_mode": {
    "name": "ipython",
    "version": 3
   },
   "file_extension": ".py",
   "mimetype": "text/x-python",
   "name": "python",
   "nbconvert_exporter": "python",
   "pygments_lexer": "ipython3",
   "version": "3.9.7"
  }
 },
 "nbformat": 4,
 "nbformat_minor": 5
}
